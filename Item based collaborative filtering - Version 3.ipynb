{
 "cells": [
  {
   "cell_type": "code",
   "execution_count": 1,
   "metadata": {
    "collapsed": true
   },
   "outputs": [],
   "source": [
    "import findspark\n",
    "findspark.init()\n",
    "\n",
    "import sys\n",
    "from pyspark import SparkContext, SparkConf\n",
    "from scipy import spatial\n",
    "import numpy as np"
   ]
  },
  {
   "cell_type": "code",
   "execution_count": 2,
   "metadata": {
    "collapsed": true
   },
   "outputs": [],
   "source": [
    "# now we will apart from the movie names, we will also extract the last 19 elements in each movie record. The last 19 elements\n",
    "# forms a binary vector with 1 and 0 placed against 19 genres (1 meaning the movie is of that genre, 0 meaning otherwise). Note\n",
    "# a movie can belong to multiple genres\n",
    "\n",
    "def loadMovieNames():\n",
    "    movieDetails = {}\n",
    "    with open('ml-100k\\u.item') as file:\n",
    "        for line in file:\n",
    "            fields = line.split('|')\n",
    "            genres = fields[-19:]\n",
    "            movieDetails[int(fields[0])] = [fields[1].decode('ascii','ignore'), genres]\n",
    "       \n",
    "    return movieDetails"
   ]
  },
  {
   "cell_type": "code",
   "execution_count": 3,
   "metadata": {
    "collapsed": true
   },
   "outputs": [],
   "source": [
    "def filterDuplicates((userid, pairs)):\n",
    "    movie1 = pairs[0][0]\n",
    "    movie2 = pairs[1][0]\n",
    "    return movie1 < movie2\n",
    "            \n",
    "def sigmoid(x,a):\n",
    "    return float(1/(1+ np.exp(-a*x)))\n",
    " \n",
    "alpha = 0.5    \n",
    "\n",
    "def similarityFunc(list_of_ratings):\n",
    "    arr = np.array(list_of_ratings)\n",
    "    # the method gives the distance. 1 - the value is the similarity\n",
    "    sim = 1-spatial.distance.cosine(arr[:,0], arr[:,1])\n",
    "    num_of_pairs = len(list_of_ratings)\n",
    "    weight = sigmoid(num_of_pairs, 0.005)\n",
    "    weighted_sim = alpha*weight + (1-alpha)*sim\n",
    "    \n",
    "    return (float(weighted_sim), num_of_pairs)\n",
    "    \n",
    "\n",
    "def makeItemPairs((userid, pairs)):\n",
    "    (movie1, rating1) = pairs[0]\n",
    "    (movie2, rating2) = pairs[1]\n",
    "    \n",
    "    return ((movie1,movie2),(rating1,rating2))\n",
    "\n",
    "# this is a cosine similarity function for the genre vectors\n",
    "def genreSimilarity(pair):\n",
    "    v1 = np.array(pair[0])\n",
    "    v2 = np.array(pair[1])\n",
    "    genre_sim = 1-spatial.distance.cosine(v1, v2)\n",
    "    return float(genre_sim)\n",
    "\n",
    "def netSimilarty((key,value)):\n",
    "    rating_simi = value[0][0]\n",
    "    genre_simi = value[1]\n",
    "    \n",
    "    net_simi = alpha*rating_simi + (1-alpha)*genre_simi\n",
    "    \n",
    "    return (key, (net_simi, value[0][1]))"
   ]
  },
  {
   "cell_type": "code",
   "execution_count": 4,
   "metadata": {},
   "outputs": [
    {
     "name": "stdout",
     "output_type": "stream",
     "text": [
      "[((197, 1097), (0.7423110081201001, 7)), ((42, 364), (0.7159167404158419, 18)), ((773, 1409), (0.7506249986979199, 1)), ((273, 617), (0.7370222333904755, 7)), ((372, 974), (0.7506249986979199, 1)), ((789, 865), (0.7467487273331919, 3)), ((496, 1314), (0.7407083328480895, 4)), ((246, 1008), (0.7337086520601352, 18)), ((856, 1006), (0.7405811481955664, 10)), ((747, 795), (0.6623528535395095, 6))]\n"
     ]
    }
   ],
   "source": [
    "# the dataset has 100,000 records. So we will be using all the cores available in the computer\n",
    "# by setting the setMaster argument to 'local[*]'\n",
    "\n",
    "conf = SparkConf().setMaster('local[*]').setAppName('MovieSimi_ver3')\n",
    "sc = SparkContext(conf = conf)\n",
    "\n",
    "# load the movie names dataset into a large dictionary called names\n",
    "details = loadMovieNames()\n",
    "movie_genre = sc.parallelize([(k,map(int,v[1])) for k,v in details.iteritems()])\n",
    "\n",
    "data = sc.textFile('.\\ml-100k\\u.data')\n",
    "\n",
    "# map ratings in the form of userid as key and (movieid, rating) as value\n",
    "user_ratings = data.map(lambda x: x.split('\\t')).map(lambda parts: (int(parts[0]), (int(parts[1]),\\\n",
    "                                                     float(parts[2]))))\n",
    "\n",
    "# compute a list of movie pairs with rating pairs from all users who have rated that pair of movies\n",
    "# this will have each record in the form userid as key and  ((movieid1, rating1), (movieid2, rating2))\n",
    "# as the value\n",
    "movie_ratings = user_ratings.join(user_ratings)\n",
    "\n",
    "# removing duplicates...since a join could result in both movies being same and all combinations of \n",
    "# the same movie pair in different orders. we will only keep the movies where the first id is less \n",
    "# than the second id. \n",
    "movie_ratings_clean = movie_ratings.filter(filterDuplicates)\n",
    "\n",
    "# the records are still in the form userid as key and  ((movieid1, rating1), (movieid2, rating2)) as\n",
    "# the value. convert this rdd to the form (movieid1, movieid2) as the key and (rating1,rating2) as \n",
    "# the value\n",
    "movie_pairs = movie_ratings_clean.map(makeItemPairs)\n",
    "\n",
    "# Now we will group by movie pairs to find all available pairs of ratings for each unique movie pair\n",
    "movie_pairs_group = movie_pairs.groupByKey().map(lambda (x,y) : (x, list(y)))\n",
    "\n",
    "#now for each movie pair as the key the value is a list of rating pairs collected from all users. We\n",
    "# will consider each rating pair as elements from two vectors and essentially compute the similarity\n",
    "# of the two vectors each vector being the collection of ratings\n",
    "\n",
    "movie_pair_simi = movie_pairs_group.mapValues(similarityFunc).persist() #we cache this rdd as this \n",
    "# will be used later\n",
    "\n",
    "# each record is now of the form (movieid1, movieid2) as key and (similarity, number of rating pairs) as the value\n",
    "\n",
    "print movie_pair_simi.take(10)"
   ]
  },
  {
   "cell_type": "code",
   "execution_count": 8,
   "metadata": {},
   "outputs": [
    {
     "name": "stdout",
     "output_type": "stream",
     "text": [
      "Top 20 similar movies for the movie:  Star Wars (1977)\n",
      "\n",
      "Return of the Jedi (1983) with score: 0.98 from 480 ratings\n",
      "Empire Strikes Back, The (1980) with score: 0.92 from 345 ratings\n",
      "African Queen, The (1951) with score: 0.86 from 138 ratings\n",
      "Starship Troopers (1997) with score: 0.85 from 138 ratings\n",
      "Independence Day (ID4) (1996) with score: 0.84 from 362 ratings\n",
      "Star Trek: First Contact (1996) with score: 0.84 from 316 ratings\n",
      "Jurassic Park (1993) with score: 0.82 from 242 ratings\n",
      "Star Trek: The Wrath of Khan (1982) with score: 0.82 from 230 ratings\n",
      "Star Trek IV: The Voyage Home (1986) with score: 0.8 from 184 ratings\n",
      "Star Trek III: The Search for Spock (1984) with score: 0.8 from 162 ratings\n",
      "Star Trek VI: The Undiscovered Country (1991) with score: 0.79 from 151 ratings\n",
      "Star Trek: Generations (1994) with score: 0.79 from 109 ratings\n",
      "Last of the Mohicans, The (1992) with score: 0.79 from 118 ratings\n",
      "Stargate (1994) with score: 0.78 from 121 ratings\n",
      "Star Trek: The Motion Picture (1979) with score: 0.78 from 111 ratings\n",
      "Princess Bride, The (1987) with score: 0.78 from 284 ratings\n",
      "Raiders of the Lost Ark (1981) with score: 0.78 from 380 ratings\n",
      "Men in Black (1997) with score: 0.78 from 271 ratings\n",
      "Aliens (1986) with score: 0.77 from 259 ratings\n",
      "Indiana Jones and the Last Crusade (1989) with score: 0.76 from 304 ratings\n"
     ]
    }
   ],
   "source": [
    "user_choice = 50\n",
    "num_of_reco = 20\n",
    "\n",
    "# extract the genre vector for the movie chosen \n",
    "user_choice_genre = map(int,details[user_choice][1])\n",
    "    \n",
    "# create a rdd with all movie IDs except the chosen movie as keys and the corresponding genre vector as the value   \n",
    "movie_genre_userchoice = movie_genre.filter(lambda (k,v) : k!=user_choice)\n",
    "\n",
    "\n",
    "# Transform the rdd into the form (chosen movie, other movie) as key and (chosen movie genre vector, other movie genre vector)\n",
    "# as value\n",
    "movie_genre_simi = movie_genre_userchoice.map(lambda (k,v) : ((int(user_choice),k),((user_choice_genre),(v)))).\\\n",
    "mapValues(genreSimilarity)\n",
    "    \n",
    "    \n",
    "def reshuffle((key,value)):\n",
    "    m1 = key[0]\n",
    "    m2 = key[1]\n",
    "    if m1 == user_choice:\n",
    "        key = (m1,m2)\n",
    "        return (key,value)\n",
    "    else:\n",
    "        key = (m2,m1)\n",
    "        return (key,value)\n",
    "        \n",
    "# use the reshuffle function to filter the rdd to contain only those movie ID pairs that contain the chosen movie ID \n",
    "# then reshuffle the key such that the chose movie ID is first followed by the other movie ID\n",
    "movie_rating_simi = movie_pair_simi.filter(lambda (pair, (sim,num)) : user_choice in  pair).map(reshuffle)\n",
    "\n",
    "\n",
    "# joining with the similar pair RDD we had with ratings similarity\n",
    "result_1 = movie_rating_simi.join(movie_genre_simi)\n",
    "\n",
    "# use the netSimilarity function to get a RDD that has (net similaity) as key and ((chosen movie, other movie), number of \n",
    "# ratings) as the value\n",
    "net_result = result_1.map(netSimilarty).map(lambda (k,v): (v[0], (k,v[1]))).sortByKey(ascending=False)\n",
    "   \n",
    "results_final  = net_result.take(num_of_reco)\n",
    "\n",
    "print 'Top {} similar movies for the movie:  {}\\n'.format(num_of_reco, details[user_choice][0])\n",
    "for val in results_final:\n",
    "    (score, ((choice,other_movie), num_ratings)) = val\n",
    "    print details[other_movie][0] + ' with score: {:.2} from {} ratings'.format(score, num_ratings) "
   ]
  },
  {
   "cell_type": "code",
   "execution_count": null,
   "metadata": {
    "collapsed": true
   },
   "outputs": [],
   "source": [
    "# Much better list of suggestions than the preivious versions. We see the inclusion of a lot of science fiction movies like \n",
    "# Star Trek, ALiens, and Starship Troopers. The inclusion of genre information helped."
   ]
  }
 ],
 "metadata": {
  "kernelspec": {
   "display_name": "Python 2",
   "language": "python",
   "name": "python2"
  },
  "language_info": {
   "codemirror_mode": {
    "name": "ipython",
    "version": 2
   },
   "file_extension": ".py",
   "mimetype": "text/x-python",
   "name": "python",
   "nbconvert_exporter": "python",
   "pygments_lexer": "ipython2",
   "version": "2.7.13"
  }
 },
 "nbformat": 4,
 "nbformat_minor": 2
}
